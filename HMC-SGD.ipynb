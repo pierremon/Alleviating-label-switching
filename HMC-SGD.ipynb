{
 "cells": [
  {
   "cell_type": "markdown",
   "metadata": {},
   "source": [
    "This Notebook gathers a simple demo of our SGD code developed the project \"Alleviating Label Switching with Optimal Transport\". The first part was devoted to the developement of an HMC sampler using Stan software. Then we show a demo of our algorithm on SGD synthetic data."
   ]
  },
  {
   "cell_type": "code",
   "execution_count": 20,
   "metadata": {},
   "outputs": [],
   "source": [
    "# List of librairies\n",
    "\n",
    "import numpy as np\n",
    "import pystan\n",
    "import pickle\n",
    "import matplotlib.pylab as plt\n",
    "import scipy.linalg\n",
    "from scipy.spatial import distance_matrix\n",
    "import ot\n",
    "import copy\n",
    "from scipy.stats import multivariate_normal \n",
    "import time\n",
    "import os, os.path\n",
    "import random\n",
    "import matplotlib.pyplot as plt\n"
   ]
  },
  {
   "cell_type": "markdown",
   "metadata": {},
   "source": [
    "## 1) HMC Sampler and SGD"
   ]
  },
  {
   "cell_type": "markdown",
   "metadata": {},
   "source": [
    "We need to implement an efficient sampler. We therefore use an Hamiltonian Monte Carlo method with the probabilistic software Stan."
   ]
  },
  {
   "cell_type": "code",
   "execution_count": 3,
   "metadata": {},
   "outputs": [],
   "source": [
    "###Generation of a Gaussian Mixture\n",
    "### Centers are the means of the Gaussian Mixture, mixing_prop the weights, and noise_sd the Covariance matrices\n",
    "\n",
    "def gen_gaus_mixture(centers, mixing_prop=None, noise_sd=0.1, M=20000):\n",
    "    \n",
    "    K, D = centers.shape\n",
    "    if mixing_prop is None:\n",
    "        mixing_prop = np.random.dirichlet(np.ones(K)*100)\n",
    "    assignments = np.random.choice(K, size=M, p=mixing_prop)\n",
    "    data = np.zeros((M,D))\n",
    "    \n",
    "    \n",
    "    for k in range(K):\n",
    "        data[assignments==k] = np.random.multivariate_normal(centers[k], noise_sd[k], size=(assignments==k).sum())\n",
    "        \n",
    "    return data, mixing_prop"
   ]
  },
  {
   "cell_type": "code",
   "execution_count": 4,
   "metadata": {},
   "outputs": [],
   "source": [
    "# This should be done only once because compiling the Stan code \n",
    "# takes a long time \n",
    "\n",
    "# mixture = pystan.StanModel(file='mixture_all.stan')\n",
    "# with open('stan_mixture_all.pkl', 'wb') as f:\n",
    "# pickle.dump(mixture, f)"
   ]
  },
  {
   "cell_type": "code",
   "execution_count": 15,
   "metadata": {},
   "outputs": [
    {
     "data": {
      "image/png": "[encoded data removed]",
      "text/plain": [
       "<Figure size 432x288 with 1 Axes>"
      ]
     },
     "metadata": {
      "needs_background": "light"
     },
     "output_type": "display_data"
    },
    {
     "name": "stderr",
     "output_type": "stream",
     "text": [
      "WARNING:pystan:n_eff / iter for parameter L[1,1,1] is nan!\n",
      "WARNING:pystan:n_eff / iter for parameter L[2,1,1] is nan!\n",
      "WARNING:pystan:n_eff / iter for parameter L[3,1,1] is nan!\n",
      "WARNING:pystan:n_eff / iter for parameter L[4,1,1] is nan!\n",
      "WARNING:pystan:n_eff / iter for parameter L[1,1,2] is nan!\n",
      "WARNING:pystan:n_eff / iter for parameter L[2,1,2] is nan!\n",
      "WARNING:pystan:n_eff / iter for parameter L[3,1,2] is nan!\n",
      "WARNING:pystan:n_eff / iter for parameter L[4,1,2] is nan!\n",
      "WARNING:pystan:n_eff / iter for parameter Omega[1,1,1] is nan!\n",
      "WARNING:pystan:n_eff / iter for parameter Omega[2,1,1] is nan!\n",
      "WARNING:pystan:n_eff / iter for parameter Omega[3,1,1] is nan!\n",
      "WARNING:pystan:n_eff / iter for parameter Omega[4,1,1] is nan!\n",
      "WARNING:pystan:n_eff / iter for parameter Omega[2,2,2] is nan!\n",
      "WARNING:pystan:n_eff / iter for parameter Omega[4,2,2] is nan!\n",
      "WARNING:pystan:n_eff / iter below 0.001 indicates that the effective sample size has likely been overestimated\n",
      "WARNING:pystan:Rhat for parameter theta[2] is 1.9264645546088726!\n",
      "WARNING:pystan:Rhat for parameter theta[4] is 1.7487811184311048!\n",
      "WARNING:pystan:Rhat for parameter mu[1,1] is 76.95198720549789!\n",
      "WARNING:pystan:Rhat for parameter mu[2,1] is 24.68524872816931!\n",
      "WARNING:pystan:Rhat for parameter mu[3,1] is 74.55281417933767!\n",
      "WARNING:pystan:Rhat for parameter mu[4,1] is 64.43144466936467!\n",
      "WARNING:pystan:Rhat for parameter mu[1,2] is 66.33823954153713!\n",
      "WARNING:pystan:Rhat for parameter mu[2,2] is 1.1346026048487696!\n",
      "WARNING:pystan:Rhat for parameter mu[3,2] is 72.1060290538576!\n",
      "WARNING:pystan:Rhat for parameter mu[4,2] is 65.83648613748196!\n",
      "WARNING:pystan:Rhat for parameter L[1,1,1] is nan!\n",
      "WARNING:pystan:Rhat for parameter L[2,1,1] is nan!\n",
      "WARNING:pystan:Rhat for parameter L[3,1,1] is nan!\n",
      "WARNING:pystan:Rhat for parameter L[4,1,1] is nan!\n",
      "WARNING:pystan:Rhat for parameter L[1,2,1] is 2.271951864773535!\n",
      "WARNING:pystan:Rhat for parameter L[2,2,1] is 4.269282638535169!\n",
      "WARNING:pystan:Rhat for parameter L[3,2,1] is 2.3919996542723783!\n",
      "WARNING:pystan:Rhat for parameter L[4,2,1] is 4.3920838529491295!\n",
      "WARNING:pystan:Rhat for parameter L[1,1,2] is nan!\n",
      "WARNING:pystan:Rhat for parameter L[2,1,2] is nan!\n",
      "WARNING:pystan:Rhat for parameter L[3,1,2] is nan!\n",
      "WARNING:pystan:Rhat for parameter L[4,1,2] is nan!\n",
      "WARNING:pystan:Rhat for parameter L[1,2,2] is 2.3289235539904345!\n",
      "WARNING:pystan:Rhat for parameter L[2,2,2] is 9.471489977816091!\n",
      "WARNING:pystan:Rhat for parameter L[3,2,2] is 2.4193127859783994!\n",
      "WARNING:pystan:Rhat for parameter L[4,2,2] is 17.333486745000133!\n",
      "WARNING:pystan:Rhat for parameter sigma[1,1] is 2.5864070915834434!\n",
      "WARNING:pystan:Rhat for parameter sigma[2,1] is 3.8348124337901317!\n",
      "WARNING:pystan:Rhat for parameter sigma[3,1] is 2.5804640060780724!\n",
      "WARNING:pystan:Rhat for parameter sigma[4,1] is 4.013238428491796!\n",
      "WARNING:pystan:Rhat for parameter sigma[1,2] is 5.662220596928064!\n",
      "WARNING:pystan:Rhat for parameter sigma[2,2] is 1.2001029547029889!\n",
      "WARNING:pystan:Rhat for parameter sigma[3,2] is 6.119835251932275!\n",
      "WARNING:pystan:Rhat for parameter sigma[4,2] is 5.232024199286193!\n",
      "WARNING:pystan:Rhat for parameter Omega[1,1,1] is nan!\n",
      "WARNING:pystan:Rhat for parameter Omega[2,1,1] is nan!\n",
      "WARNING:pystan:Rhat for parameter Omega[3,1,1] is nan!\n",
      "WARNING:pystan:Rhat for parameter Omega[4,1,1] is nan!\n",
      "WARNING:pystan:Rhat for parameter Omega[1,2,1] is 2.271951864773535!\n",
      "WARNING:pystan:Rhat for parameter Omega[2,2,1] is 4.269282638535169!\n",
      "WARNING:pystan:Rhat for parameter Omega[3,2,1] is 2.3919996542723783!\n",
      "WARNING:pystan:Rhat for parameter Omega[4,2,1] is 4.3920838529491295!\n",
      "WARNING:pystan:Rhat for parameter Omega[1,1,2] is 2.271951864773535!\n",
      "WARNING:pystan:Rhat for parameter Omega[2,1,2] is 4.269282638535169!\n",
      "WARNING:pystan:Rhat for parameter Omega[3,1,2] is 2.3919996542723783!\n",
      "WARNING:pystan:Rhat for parameter Omega[4,1,2] is 4.3920838529491295!\n",
      "WARNING:pystan:Rhat for parameter Sigma[1,1,1] is 2.272186206219576!\n",
      "WARNING:pystan:Rhat for parameter Sigma[2,1,1] is 3.3730818825115207!\n",
      "WARNING:pystan:Rhat for parameter Sigma[3,1,1] is 2.302386578938294!\n",
      "WARNING:pystan:Rhat for parameter Sigma[4,1,1] is 3.473285039896576!\n",
      "WARNING:pystan:Rhat for parameter Sigma[1,2,1] is 3.1184459578601413!\n",
      "WARNING:pystan:Rhat for parameter Sigma[2,2,1] is 1.2612926166894225!\n",
      "WARNING:pystan:Rhat for parameter Sigma[3,2,1] is 3.265905309526674!\n",
      "WARNING:pystan:Rhat for parameter Sigma[4,2,1] is 3.3268225594419745!\n",
      "WARNING:pystan:Rhat for parameter Sigma[1,1,2] is 3.1184459578601413!\n",
      "WARNING:pystan:Rhat for parameter Sigma[2,1,2] is 1.2612926166894225!\n",
      "WARNING:pystan:Rhat for parameter Sigma[3,1,2] is 3.265905309526674!\n",
      "WARNING:pystan:Rhat for parameter Sigma[4,1,2] is 3.3268225594419745!\n",
      "WARNING:pystan:Rhat for parameter Sigma[1,2,2] is 3.8221116356150886!\n",
      "WARNING:pystan:Rhat for parameter Sigma[2,2,2] is 1.1979259553579837!\n",
      "WARNING:pystan:Rhat for parameter Sigma[3,2,2] is 4.297670143672072!\n",
      "WARNING:pystan:Rhat for parameter Sigma[4,2,2] is 3.608589209114679!\n",
      "WARNING:pystan:Rhat above 1.1 or below 0.9 indicates that the chains very likely have not mixed\n"
     ]
    },
    {
     "data": {
      "image/png": "[encoded data removed]",
      "text/plain": [
       "<Figure size 432x288 with 1 Axes>"
      ]
     },
     "metadata": {
      "needs_background": "light"
     },
     "output_type": "display_data"
    },
    {
     "name": "stdout",
     "output_type": "stream",
     "text": [
      "--- 399.703665971756 seconds ---\n"
     ]
    }
   ],
   "source": [
    "mixture = pickle.load(open('Stan/stan_mixture_all.pkl', 'rb'))\n",
    "start_time = time.time()\n",
    "\n",
    "\n",
    "## Generating and plotting data ##\n",
    "\n",
    "# Data generating parameters\n",
    "K = 4 # number of components\n",
    "D = 2 # data dimension\n",
    "M = 200 # sample size\n",
    "\n",
    "\n",
    "#Choice of covariance matrices\n",
    "cov = np.random.normal(0,0.05, (K,D,D))\n",
    "for k in range(K):\n",
    "    cov[k] = cov[k]@np.transpose(cov[k])\n",
    "\n",
    "local_sd = 0.1\n",
    "global_sd = np.sqrt(K)*0.5 # sigma0\n",
    "mu0 = 0. # mu0\n",
    "\n",
    "centers = np.random.normal(mu0,global_sd,size=(K,D))\n",
    "X, mix = gen_gaus_mixture(centers, mixing_prop=None, noise_sd=cov, M=M)\n",
    "\n",
    "plt.scatter(centers[:, 0], centers[:, 1], c='black', s=100, alpha=0.5)\n",
    "plt.scatter(X[:, 0], X[:, 1], c='black', s=5, alpha=0.3)\n",
    "plt.show()\n",
    "\n",
    "\n",
    "## HMC part with Stan ##\n",
    "\n",
    "\n",
    "stan_data = {'D': D, 'K':K, 'N':M, 'y':X, 'alpha':np.ones(K)*10}\n",
    "\n",
    "chains = 3\n",
    "\n",
    "#initialisation of each chain\n",
    "init = []\n",
    "for c in range(chains):\n",
    "    c_init = {'mu': np.random.normal(scale=global_sd, size=(K,D)), 'theta': np.ones(K)/K,\n",
    "              'L': [np.eye(D) for _ in range(K)],\n",
    "              'sigma': [np.ones(D)*local_sd for _ in range(K)]}\n",
    "    init.append(c_init)\n",
    "    \n",
    "\n",
    "control={ 'adapt_delta':0.8 , 'stepsize_jitter':0.15}\n",
    "fit_nuts = mixture.sampling(data=stan_data, iter=1000, chains=chains, n_jobs=-1, init=init, control=control)\n",
    "la = fit_nuts.extract(permuted=True)\n",
    "\n",
    "\n",
    "## plot the results ##\n",
    "\n",
    "colors = ['red', 'blue', 'green', 'yellow']\n",
    "for k in range(K):\n",
    "    plt.scatter(la['mu'][:,k,0], la['mu'][:,k,1], c=colors[k])\n",
    "plt.scatter(centers[:, 0], centers[:, 1], c='black', s=100, alpha=0.5)\n",
    "plt.scatter(X[:, 0], X[:, 1], c='black', s=5, alpha=0.3)\n",
    "plt.show()\n",
    "\n",
    "\n",
    "print(\"--- %s seconds ---\" % (time.time() - start_time))"
   ]
  },
  {
   "cell_type": "code",
   "execution_count": 16,
   "metadata": {},
   "outputs": [],
   "source": [
    "means, covs, weights, Data, likelihood= la['mu'], la['Sigma'], la['theta'].reshape((1500,4,1)), X, la['lp__']"
   ]
  },
  {
   "cell_type": "markdown",
   "metadata": {},
   "source": [
    "After having implemented the HMC sampler, we need to implement our Wassertein based SGD algorithm. Also, the warnings below our HMC sampler are due to the fact that there is the label switching issue and therefore the chains results do not match all together."
   ]
  },
  {
   "cell_type": "code",
   "execution_count": 17,
   "metadata": {},
   "outputs": [],
   "source": [
    "def SGD(means, covs, weights, N=1000, D=2, K=4):\n",
    "    start_time = time.time()\n",
    "    mus = means\n",
    "    mu_barre = np.random.normal(size=(K,D))\n",
    "    Cov_barre  = np.array([ np.identity(D), np.identity(D),np.identity(D),np.identity(D)])\n",
    "    sigma_barre = np.zeros((K,D,D))\n",
    "    for i in range(K):\n",
    "        sigma_barre[i] = scipy.linalg.cholesky(Cov_barre[i])\n",
    "    weights_barre = (np.ones(K)/K).reshape((4,1))\n",
    "    a = [1/K]*K\n",
    "    b = [1/K]*K\n",
    "    h = [[], [],[],[]]\n",
    "    for loop in range(1000) :\n",
    "        learning_rate = 1/(loop+1)\n",
    "        sigma = np.zeros((K,D,D))\n",
    "        for i in range(K):\n",
    "            sigma[i] = scipy.linalg.sqrtm(covs[loop,i])\n",
    "\n",
    "        M = distance_matrix(mus[loop], mu_barre, p = 2)\n",
    "        M = M**2\n",
    "        M = np.ascontiguousarray(M)\n",
    "        N = distance_matrix(weights[loop], weights_barre, p = 2)\n",
    "        N = N**2\n",
    "        N = np.ascontiguousarray(N)\n",
    "        M=M+N\n",
    "        for j in range(K):\n",
    "            A = sigma_barre[j]@np.transpose(sigma_barre[j])\n",
    "            A_demi = scipy.linalg.sqrtm(A)\n",
    "            for i in range(K):\n",
    "                M[i,j] += np.trace(A + covs[loop,i]- 2 * scipy.linalg.sqrtm(A_demi@covs[loop,i]@A_demi))\n",
    "        T = ot.emd(a, b, M) \n",
    "        \n",
    "        idx_map = np.where(T)\n",
    "        learning_rate = 1/np.sqrt(loop+1)\n",
    "        for j in range(K):\n",
    "            s = (mu_barre[j] - mus[loop])*T[:,j].reshape(-1,1)\n",
    "            mu_barre[j] -= learning_rate*2*s.sum(axis=0)\n",
    "            h[j].append(copy.deepcopy(mu_barre[j]))\n",
    "            assert(len(np.nonzero(T[:,j]))==1)\n",
    "            i = np.nonzero(T[:,j])[0][0]                      \n",
    "            A = sigma_barre[j]@np.transpose(sigma_barre[j])\n",
    "            A_demi = scipy.linalg.sqrtm(A)\n",
    "            T_AB =  np.real( np.linalg.inv(A_demi) @ scipy.linalg.sqrtm(A_demi@covs[loop,i]@A_demi) @  np.linalg.inv(A_demi))\n",
    "            sigma_barre[j] -= learning_rate*2*(np.identity(D)-T_AB)@sigma_barre[j]\n",
    "            weights_barre[j] -= learning_rate*2*weights[loop, i]\n",
    "\n",
    "    for i in range(K):\n",
    "        Cov_barre[i] = sigma_barre[i]@np.transpose(sigma_barre[i])\n",
    "        \n",
    "    return mu_barre, h, Cov_barre, weights_barre, time.time() - start_time\n"
   ]
  },
  {
   "cell_type": "code",
   "execution_count": 18,
   "metadata": {},
   "outputs": [],
   "source": [
    "mu_barre, h, Cov_barre, weights_barre, timing = SGD(means, covs, weights, N=1500, D=2, K=4)"
   ]
  },
  {
   "cell_type": "markdown",
   "metadata": {},
   "source": [
    "We finally plot the trajectory of our barycenter in the $(\\mu_1, \\mu_2)$ plane "
   ]
  },
  {
   "cell_type": "code",
   "execution_count": 19,
   "metadata": {},
   "outputs": [
    {
     "data": {
      "image/png": "[encoded data removed]",
      "text/plain": [
       "<Figure size 432x288 with 1 Axes>"
      ]
     },
     "metadata": {
      "needs_background": "light"
     },
     "output_type": "display_data"
    }
   ],
   "source": [
    "for i in range(K):\n",
    "    x,y = zip(*h[i][:50])\n",
    "    plt.scatter(x,y, s=10, alpha=0.6)\n",
    "plt.scatter(X[:, 0], X[:, 1], c='black', s=5, alpha=0.3)\n",
    "plt.xlabel('$\\mu_1$')\n",
    "plt.ylabel('$\\mu_2$')\n",
    "plt.title('Barycenter trajectory')\n",
    "plt.show()"
   ]
  }
 ],
 "metadata": {
  "kernelspec": {
   "display_name": "Python 3",
   "language": "python",
   "name": "python3"
  },
  "language_info": {
   "codemirror_mode": {
    "name": "ipython",
    "version": 3
   },
   "file_extension": ".py",
   "mimetype": "text/x-python",
   "name": "python",
   "nbconvert_exporter": "python",
   "pygments_lexer": "ipython3",
   "version": "3.7.3"
  }
 },
 "nbformat": 4,
 "nbformat_minor": 2
}
