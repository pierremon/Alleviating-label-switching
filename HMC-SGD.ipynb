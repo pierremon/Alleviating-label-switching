{
 "cells": [
  {
   "cell_type": "markdown",
   "metadata": {},
   "source": [
    "# SGD and HMC Sampler\n",
    "\n",
    "This notebook is a simple demo of our SGD code developed in the paper \"Alleviating Label Switching with Optimal Transport\". The first part is devoted to the development of an HMC sampler using Stan software, while the second demonstrates our algorithm on synthetic data."
   ]
  },
  {
   "cell_type": "code",
   "execution_count": 4,
   "metadata": {},
   "outputs": [],
   "source": [
    "# List of libraries\n",
    "\n",
    "import numpy as np\n",
    "import pystan\n",
    "import pickle\n",
    "import matplotlib.pylab as plt\n",
    "import scipy.linalg\n",
    "from scipy.spatial import distance_matrix\n",
    "import ot\n",
    "import copy\n",
    "from scipy.stats import multivariate_normal \n",
    "import time\n",
    "import os, os.path\n",
    "import random\n",
    "import matplotlib.pyplot as plt\n"
   ]
  },
  {
   "cell_type": "markdown",
   "metadata": {},
   "source": [
    "## 1) Data Generation and HMC Sampler\n",
    "\n",
    "We need to implement an efficient sampler. We therefore use an Hamiltonian Monte Carlo method with the probabilistic software Stan. \n",
    "\n",
    "### a) Data Generation\n"
   ]
  },
  {
   "cell_type": "markdown",
   "metadata": {},
   "source": [
    "We need first to generate data points $x \\in \\mathbb{R}^d$ to infer the posterior distribution $p(\\Theta|x)$ via Bayes rule.\n",
    "\n",
    "$$p(\\Theta|x) \\propto p(x|\\Theta)p(\\Theta)$$\n",
    "\n",
    "The following code enable us to generate data points $x$ following a random Gaussian Mixture. To do so we need to generate random means and random covariance matrices. To ensure we are dealing with PSD matrices, we generate a random matrix $A$ and compute $B=AA^T$. \n",
    "\n",
    "The following function returns a list of points $x \\in \\mathbb{R}^d $ generated from a Gaussian Mixture Model where we need to prescribe a list of centers, a list of covariances, and mixture proportions. "
   ]
  },
  {
   "cell_type": "code",
   "execution_count": 5,
   "metadata": {},
   "outputs": [],
   "source": [
    "def gen_gaus_mixture(centers, covariances, mixing_prop=None, M=20000):\n",
    "    \n",
    "    K, D = centers.shape\n",
    "    if mixing_prop is None:\n",
    "        mixing_prop = np.random.dirichlet(np.ones(K)*100)\n",
    "    assignments = np.random.choice(K, size=M, p=mixing_prop)\n",
    "    data = np.zeros((M,D))\n",
    "    \n",
    "    \n",
    "    for k in range(K):\n",
    "        data[assignments==k] = np.random.multivariate_normal(centers[k], covariances[k], size=(assignments==k).sum())\n",
    "        \n",
    "    return data, mixing_prop"
   ]
  },
  {
   "cell_type": "code",
   "execution_count": 6,
   "metadata": {},
   "outputs": [
    {
     "data": {
      "image/png": "[encoded data removed]",
      "text/plain": [
       "<Figure size 432x288 with 1 Axes>"
      ]
     },
     "metadata": {
      "needs_background": "light"
     },
     "output_type": "display_data"
    }
   ],
   "source": [
    "K = 4 # number of components\n",
    "D = 2 # data dimension\n",
    "M = 200 # sample size\n",
    "\n",
    "# Random Generation of PSD matrices\n",
    "cov = np.random.normal(0,0.05, (K,D,D))\n",
    "for k in range(K):\n",
    "    cov[k] = cov[k]@np.transpose(cov[k])\n",
    "\n",
    "# Random Generation of Means\n",
    "global_sd = np.sqrt(K)*0.5 # standard deviation for generating the means of our GMM.\n",
    "mu0 = 0. \n",
    "centers = np.random.normal(mu0,global_sd,size=(K,D))\n",
    "\n",
    "\n",
    "X, mix = gen_gaus_mixture(centers, cov, mixing_prop=None, M=M)\n",
    "\n",
    "# plotting the data points\n",
    "\n",
    "plt.scatter(centers[:, 0], centers[:, 1], c='black', s=100, alpha=0.5)\n",
    "plt.scatter(X[:, 0], X[:, 1], c='black', s=5, alpha=0.3)\n",
    "plt.show()"
   ]
  },
  {
   "cell_type": "markdown",
   "metadata": {},
   "source": [
    "### b) HMC Sampler\n",
    "\n",
    "The next cell compiles the Stan and records it in a .pkl file. Indeed, compiling the Stan code takes several minutes and recording it avoids recompiling everytime one needs to use the HMC Sampler."
   ]
  },
  {
   "cell_type": "code",
   "execution_count": 7,
   "metadata": {},
   "outputs": [],
   "source": [
    "# This should be done only once because compiling the Stan code \n",
    "# takes a long time \n",
    "\n",
    "# mixture = pystan.StanModel(file='mixture_all.stan')\n",
    "# with open('stan_mixture_all.pkl', 'wb') as f:\n",
    "# pickle.dump(mixture, f)"
   ]
  },
  {
   "cell_type": "markdown",
   "metadata": {},
   "source": [
    "We can now infer the posterior distribution on our parameters from these data points. The code below is for an HMC sampler from this posterior. We first need to load our pickle file, then declare the variables used in Stan. To ensure quick convergence of each chain, we carefully initialize each chain. (Additional sentence here). Finally, we plot the sampled means obtained with our HMC sampler. We refer to the documentation for implementation details https://pystan.readthedocs.io/en/latest/\n",
    "\n",
    "The warnings thrown below by our HMC sampler are due to the label switching issue, leading consecutive samples to differ greatly. For example, the first component mean are colored in yellow, and we can see that it is located in (0.55,-0.68) and (0.59,0.88)."
   ]
  },
  {
   "cell_type": "code",
   "execution_count": 8,
   "metadata": {},
   "outputs": [
    {
     "name": "stderr",
     "output_type": "stream",
     "text": [
      "WARNING:pystan:n_eff / iter for parameter L[1,1,1] is nan!\n",
      "WARNING:pystan:n_eff / iter for parameter L[2,1,1] is nan!\n",
      "WARNING:pystan:n_eff / iter for parameter L[3,1,1] is nan!\n",
      "WARNING:pystan:n_eff / iter for parameter L[4,1,1] is nan!\n",
      "WARNING:pystan:n_eff / iter for parameter L[1,1,2] is nan!\n",
      "WARNING:pystan:n_eff / iter for parameter L[2,1,2] is nan!\n",
      "WARNING:pystan:n_eff / iter for parameter L[3,1,2] is nan!\n",
      "WARNING:pystan:n_eff / iter for parameter L[4,1,2] is nan!\n",
      "WARNING:pystan:n_eff / iter for parameter Omega[1,1,1] is nan!\n",
      "WARNING:pystan:n_eff / iter for parameter Omega[2,1,1] is nan!\n",
      "WARNING:pystan:n_eff / iter for parameter Omega[3,1,1] is nan!\n",
      "WARNING:pystan:n_eff / iter for parameter Omega[4,1,1] is nan!\n",
      "WARNING:pystan:n_eff / iter for parameter Omega[1,2,2] is nan!\n",
      "WARNING:pystan:n_eff / iter for parameter Omega[2,2,2] is nan!\n",
      "WARNING:pystan:n_eff / iter for parameter Omega[3,2,2] is nan!\n",
      "WARNING:pystan:n_eff / iter below 0.001 indicates that the effective sample size has likely been overestimated\n",
      "WARNING:pystan:Rhat for parameter theta[1] is 1.3483448666721012!\n",
      "WARNING:pystan:Rhat for parameter theta[2] is 1.652553441095044!\n",
      "WARNING:pystan:Rhat for parameter theta[3] is 1.5256763801419946!\n",
      "WARNING:pystan:Rhat for parameter theta[4] is 1.1175260778476308!\n",
      "WARNING:pystan:Rhat for parameter mu[1,1] is 27.356440551188374!\n",
      "WARNING:pystan:Rhat for parameter mu[2,1] is 106.8804544749439!\n",
      "WARNING:pystan:Rhat for parameter mu[3,1] is 77.3731057425068!\n",
      "WARNING:pystan:Rhat for parameter mu[4,1] is 3.311290455023439!\n",
      "WARNING:pystan:Rhat for parameter mu[1,2] is 1.4355640784626897!\n",
      "WARNING:pystan:Rhat for parameter mu[2,2] is 26.472681180612323!\n",
      "WARNING:pystan:Rhat for parameter mu[3,2] is 42.641460721972784!\n",
      "WARNING:pystan:Rhat for parameter mu[4,2] is 50.48804021536029!\n",
      "WARNING:pystan:Rhat for parameter L[1,1,1] is nan!\n",
      "WARNING:pystan:Rhat for parameter L[2,1,1] is nan!\n",
      "WARNING:pystan:Rhat for parameter L[3,1,1] is nan!\n",
      "WARNING:pystan:Rhat for parameter L[4,1,1] is nan!\n",
      "WARNING:pystan:Rhat for parameter L[1,2,1] is 12.466919245503385!\n",
      "WARNING:pystan:Rhat for parameter L[2,2,1] is 8.405937933467973!\n",
      "WARNING:pystan:Rhat for parameter L[3,2,1] is 6.9446730632762526!\n",
      "WARNING:pystan:Rhat for parameter L[4,2,1] is 6.834013180181751!\n",
      "WARNING:pystan:Rhat for parameter L[1,1,2] is nan!\n",
      "WARNING:pystan:Rhat for parameter L[2,1,2] is nan!\n",
      "WARNING:pystan:Rhat for parameter L[3,1,2] is nan!\n",
      "WARNING:pystan:Rhat for parameter L[4,1,2] is nan!\n",
      "WARNING:pystan:Rhat for parameter L[1,2,2] is 2.111968801111037!\n",
      "WARNING:pystan:Rhat for parameter L[2,2,2] is 3.905684333498141!\n",
      "WARNING:pystan:Rhat for parameter L[3,2,2] is 3.2354162533727355!\n",
      "WARNING:pystan:Rhat for parameter L[4,2,2] is 1.1901209286628542!\n",
      "WARNING:pystan:Rhat for parameter sigma[1,1] is 2.3319755934269115!\n",
      "WARNING:pystan:Rhat for parameter sigma[2,1] is 6.172812769338566!\n",
      "WARNING:pystan:Rhat for parameter sigma[3,1] is 4.798530266020927!\n",
      "WARNING:pystan:Rhat for parameter sigma[4,1] is 5.103256930534732!\n",
      "WARNING:pystan:Rhat for parameter sigma[1,2] is 1.2315112181134742!\n",
      "WARNING:pystan:Rhat for parameter sigma[2,2] is 2.001607733809233!\n",
      "WARNING:pystan:Rhat for parameter sigma[3,2] is 2.3235456573812963!\n",
      "WARNING:pystan:Rhat for parameter sigma[4,2] is 1.6659792507461693!\n",
      "WARNING:pystan:Rhat for parameter Omega[1,1,1] is nan!\n",
      "WARNING:pystan:Rhat for parameter Omega[2,1,1] is nan!\n",
      "WARNING:pystan:Rhat for parameter Omega[3,1,1] is nan!\n",
      "WARNING:pystan:Rhat for parameter Omega[4,1,1] is nan!\n",
      "WARNING:pystan:Rhat for parameter Omega[1,2,1] is 12.466919245503385!\n",
      "WARNING:pystan:Rhat for parameter Omega[2,2,1] is 8.405937933467973!\n",
      "WARNING:pystan:Rhat for parameter Omega[3,2,1] is 6.9446730632762526!\n",
      "WARNING:pystan:Rhat for parameter Omega[4,2,1] is 6.834013180181751!\n",
      "WARNING:pystan:Rhat for parameter Omega[1,1,2] is 12.466919245503385!\n",
      "WARNING:pystan:Rhat for parameter Omega[2,1,2] is 8.405937933467973!\n",
      "WARNING:pystan:Rhat for parameter Omega[3,1,2] is 6.9446730632762526!\n",
      "WARNING:pystan:Rhat for parameter Omega[4,1,2] is 6.834013180181751!\n",
      "WARNING:pystan:Rhat for parameter Sigma[1,1,1] is 2.0731888827160114!\n",
      "WARNING:pystan:Rhat for parameter Sigma[2,1,1] is 4.246883166463975!\n",
      "WARNING:pystan:Rhat for parameter Sigma[3,1,1] is 3.576479271514479!\n",
      "WARNING:pystan:Rhat for parameter Sigma[4,1,1] is 4.0557902417459974!\n",
      "WARNING:pystan:Rhat for parameter Sigma[1,2,1] is 4.40292852339934!\n",
      "WARNING:pystan:Rhat for parameter Sigma[2,2,1] is 4.965374710874558!\n",
      "WARNING:pystan:Rhat for parameter Sigma[3,2,1] is 3.910624692559578!\n",
      "WARNING:pystan:Rhat for parameter Sigma[4,2,1] is 4.578628910493045!\n",
      "WARNING:pystan:Rhat for parameter Sigma[1,1,2] is 4.40292852339934!\n",
      "WARNING:pystan:Rhat for parameter Sigma[2,1,2] is 4.965374710874558!\n",
      "WARNING:pystan:Rhat for parameter Sigma[3,1,2] is 3.910624692559578!\n",
      "WARNING:pystan:Rhat for parameter Sigma[4,1,2] is 4.578628910493045!\n",
      "WARNING:pystan:Rhat for parameter Sigma[1,2,2] is 1.2138838811377324!\n",
      "WARNING:pystan:Rhat for parameter Sigma[2,2,2] is 1.8456625391445476!\n",
      "WARNING:pystan:Rhat for parameter Sigma[3,2,2] is 2.262653404791151!\n",
      "WARNING:pystan:Rhat for parameter Sigma[4,2,2] is 1.6736118616146212!\n",
      "WARNING:pystan:Rhat above 1.1 or below 0.9 indicates that the chains very likely have not mixed\n"
     ]
    },
    {
     "data": {
      "image/png": "[encoded data removed]",
      "text/plain": [
       "<Figure size 432x288 with 1 Axes>"
      ]
     },
     "metadata": {
      "needs_background": "light"
     },
     "output_type": "display_data"
    },
    {
     "name": "stdout",
     "output_type": "stream",
     "text": [
      "--- 219.84984183311462 seconds ---\n"
     ]
    }
   ],
   "source": [
    "mixture = pickle.load(open('Stan/stan_mixture_all.pkl', 'rb'))\n",
    "start_time = time.time()\n",
    "\n",
    "# declaring variables to Stan and number of chains \n",
    "stan_data = {'D': D, 'K':K, 'N':M, 'y':X, 'alpha':np.ones(K)*10}\n",
    "chains = 3\n",
    "\n",
    "# initialisation of each chain\n",
    "local_sd=0.1\n",
    "init = []\n",
    "for c in range(chains):\n",
    "    c_init = {'mu': np.random.normal(scale=global_sd, size=(K,D)), 'theta': np.ones(K)/K,\n",
    "              'L': [np.eye(D) for _ in range(K)],\n",
    "              'sigma': [np.ones(D)*local_sd for _ in range(K)]}\n",
    "    init.append(c_init)\n",
    "    \n",
    "control={ 'adapt_delta':0.8 , 'stepsize_jitter':0.15} # control parameters\n",
    "fit_nuts = mixture.sampling(data=stan_data, iter=1000, chains=chains, n_jobs=-1, init=init, control=control)\n",
    "la = fit_nuts.extract(permuted=True)\n",
    "\n",
    "\n",
    "## plot the results ##\n",
    "\n",
    "colors = ['red', 'blue', 'green', 'yellow']\n",
    "for k in range(K):\n",
    "    plt.scatter(la['mu'][:,k,0], la['mu'][:,k,1], c=colors[k])\n",
    "plt.scatter(centers[:, 0], centers[:, 1], c='black', s=100, alpha=0.5)\n",
    "plt.scatter(X[:, 0], X[:, 1], c='black', s=5, alpha=0.3)\n",
    "plt.show()\n",
    "\n",
    "\n",
    "print(\"--- %s seconds ---\" % (time.time() - start_time))"
   ]
  },
  {
   "cell_type": "markdown",
   "metadata": {},
   "source": [
    "## SGD Algorithm \n",
    "\n",
    "After having implemented the HMC sampler, we need to implement our Wassertein-based SGD algorithm. We first load results given by the HMC sampler. \n",
    "\n",
    "The first step of our SGD-based algorithm is to randomly initialize coordinates of our barycenter. Muzellec et al. (2018) described a gradient step for PSD matrices using Cholesky matrices. Therefore we need to compute the Cholesky factor of these matrices.\n",
    "\n",
    "For each sample  $(\\mu, \\Sigma, \\pi)$, we compute the ditance matrix between it and our barycenter and compute the transport plan between them (in the sense described in the paper). The distance used between Gaussian distribution is \n",
    "\\begin{equation}\n",
    "\\label{eq:w2gaussians}\n",
    " d((\\bar{\\mu}, \\bar{\\Sigma}), (\\mu, \\Sigma))^2 = W_2^2 (\\mathcal{N}(\\bar{\\mu},\\bar{\\Sigma}), \\mathcal{N}(\\mu,\\Sigma)) = \\|\\bar{\\mu}-\\mu\\|_2^2 + \\mathfrak{B}^2(\\bar{\\Sigma},\\Sigma),\n",
    "\\end{equation}\n",
    "\n",
    "Where the distance between the covariance matrices is called the Bures metric, in closed form it is \n",
    "\n",
    "$$\\mathfrak{B}^2(\\bar{\\Sigma},\\Sigma)= \\mathrm{Tr}[\\bar{\\Sigma}+\\Sigma-2(\\bar{\\Sigma}^{\\frac{1}{2}}\\Sigma\\bar{\\Sigma}^{\\frac{1}{2}})^{\\frac{1}{2}} ]$$\n",
    "\n",
    "\n",
    "Then one should make a gradient step in the direction where the point is mapped. We recall here the gradient computation that we used in the code, we used the decomposition $\\bar{\\Sigma}=LL^T$\n",
    "$$\\nabla_{\\bar{\\mu}}\\frac{1}{2}\\|\\bar{\\mu}-\\mu\\|_2^2 = \\bar{\\mu}-\\mu $$\n",
    "$$\\nabla_{\\bar{\\Sigma}}\\frac{1}{2}\\mathfrak{B}(\\bar{\\Sigma},\\Sigma) = (I-T^{\\bar{\\Sigma} \\Sigma})L \\quad \\text{with} \\quad T^{\\bar{\\Sigma} \\Sigma}= \\bar{\\Sigma}^{-\\frac{1}{2}} (\\bar{\\Sigma}^{\\frac{1}{2}}\\Sigma\\bar{\\Sigma}^{\\frac{1}{2}})^{\\frac{1}{2}}\\bar{\\Sigma}^{-\\frac{1}{2}}. $$ \n",
    "\n",
    "The stepsize is taken to be equal to $1/i$ where $i$ the number of iterations."
   ]
  },
  {
   "cell_type": "code",
   "execution_count": 9,
   "metadata": {},
   "outputs": [],
   "source": [
    "means, covs, weights, Data, likelihood= la['mu'], la['Sigma'], la['theta'].reshape((1500,4,1)), X, la['lp__']"
   ]
  },
  {
   "cell_type": "code",
   "execution_count": 10,
   "metadata": {},
   "outputs": [],
   "source": [
    "def SGD(means, covs, weights, N=1000, D=2, K=4):\n",
    "    start_time = time.time()\n",
    "    mus = means\n",
    "    mu_barre = np.random.normal(size=(K,D))\n",
    "    Cov_barre  = np.array([ np.identity(D), np.identity(D),np.identity(D),np.identity(D)])\n",
    "    sigma_barre = np.zeros((K,D,D))\n",
    "    for i in range(K):\n",
    "        sigma_barre[i] = scipy.linalg.cholesky(Cov_barre[i])\n",
    "    weights_barre = (np.ones(K)/K).reshape((4,1))\n",
    "    a = [1/K]*K\n",
    "    b = [1/K]*K\n",
    "    h = [[], [],[],[]]\n",
    "    h_bis= [[], [],[],[]]\n",
    "    for loop in range(1000) :\n",
    "        learning_rate = 1/(loop+1)\n",
    "        sigma = np.zeros((K,D,D))\n",
    "        for i in range(K):\n",
    "            sigma[i] = scipy.linalg.sqrtm(covs[loop,i])\n",
    "\n",
    "        M = distance_matrix(mus[loop], mu_barre, p = 2)\n",
    "        M = M**2\n",
    "        M = np.ascontiguousarray(M)\n",
    "        N = distance_matrix(weights[loop], weights_barre, p = 2)\n",
    "        N = N**2\n",
    "        N = np.ascontiguousarray(N)\n",
    "        M=M+N\n",
    "        for j in range(K):\n",
    "            A = sigma_barre[j]@np.transpose(sigma_barre[j])\n",
    "            A_demi = scipy.linalg.sqrtm(A)\n",
    "            for i in range(K):\n",
    "                M[i,j] += np.trace(A + covs[loop,i]- 2 * scipy.linalg.sqrtm(A_demi@covs[loop,i]@A_demi))\n",
    "        T = ot.emd(a, b, M) \n",
    "        \n",
    "        idx_map = np.where(T)\n",
    "        learning_rate = 1/np.sqrt(loop+1)\n",
    "        for j in range(K):\n",
    "            s = (mu_barre[j] - mus[loop])*T[:,j].reshape(-1,1)\n",
    "            mu_barre[j] -= learning_rate*2*s.sum(axis=0)\n",
    "            h[j].append(copy.deepcopy(mu_barre[j]))\n",
    "            assert(len(np.nonzero(T[:,j]))==1)\n",
    "            i = np.nonzero(T[:,j])[0][0]                      \n",
    "            A = sigma_barre[j]@np.transpose(sigma_barre[j])\n",
    "            A_demi = scipy.linalg.sqrtm(A)\n",
    "            T_AB =  np.real( np.linalg.inv(A_demi) @ scipy.linalg.sqrtm(A_demi@covs[loop,i]@A_demi) @  np.linalg.inv(A_demi))\n",
    "            sigma_barre[j] -= learning_rate*2*(np.identity(D)-T_AB)@sigma_barre[j]\n",
    "            h_bis[j].append(copy.deepcopy(sigma_barre[j]))\n",
    "            weights_barre[j] -= learning_rate*2*weights[loop, i]\n",
    "\n",
    "    for i in range(K):\n",
    "        Cov_barre[i] = sigma_barre[i]@np.transpose(sigma_barre[i])\n",
    "        \n",
    "    return mu_barre, h, h_bis, Cov_barre, weights_barre, time.time() - start_time\n"
   ]
  },
  {
   "cell_type": "code",
   "execution_count": 11,
   "metadata": {},
   "outputs": [],
   "source": [
    "mu_barre, h, h_bis, Cov_barre, weights_barre, timing = SGD(means, covs, weights, N=1500, D=2, K=4)"
   ]
  },
  {
   "cell_type": "markdown",
   "metadata": {},
   "source": [
    "We finally plot the trajectory of our barycenter in the $(\\mu_1, \\mu_2)$ plane. We add also the trajectory with the corresponding covariance matrices."
   ]
  },
  {
   "cell_type": "code",
   "execution_count": 44,
   "metadata": {},
   "outputs": [
    {
     "data": {
      "image/png": "[encoded data removed]",
      "text/plain": [
       "<Figure size 432x288 with 1 Axes>"
      ]
     },
     "metadata": {
      "needs_background": "light"
     },
     "output_type": "display_data"
    }
   ],
   "source": [
    "for i in range(K):\n",
    "    x,y = zip(*h[i][:50])\n",
    "    plt.scatter(x,y, color=colors[i], s=10, alpha=0.6)\n",
    "plt.scatter(X[:, 0], X[:, 1], c='black', s=5, alpha=0.3)\n",
    "plt.xlabel('$\\mu_1$')\n",
    "plt.ylabel('$\\mu_2$')\n",
    "plt.title('Barycenter trajectory')\n",
    "plt.show()"
   ]
  },
  {
   "cell_type": "code",
   "execution_count": 46,
   "metadata": {},
   "outputs": [
    {
     "data": {
      "text/plain": [
       "Text(0.5, 1.0, 'Barycenter trajectory')"
      ]
     },
     "execution_count": 46,
     "metadata": {},
     "output_type": "execute_result"
    },
    {
     "data": {
      "image/png": "[encoded data removed]",
      "text/plain": [
       "<Figure size 432x288 with 1 Axes>"
      ]
     },
     "metadata": {
      "needs_background": "light"
     },
     "output_type": "display_data"
    }
   ],
   "source": [
    "from matplotlib.patches import Ellipse\n",
    "ax=plt.gca()\n",
    "\n",
    "#pivot_index = np.argmax(likelihood) \n",
    "#pivot_mean, pivot_cov, pivot_weight = means[pivot_index], covs[pivot_index], weights[pivot_index]  \n",
    "\n",
    "def plot_ellipse(pos, cov, color, label):\n",
    "    U, s, Vt = np.linalg.svd(cov)\n",
    "    angle = np.degrees(np.arctan2(U[1, 0], U[0, 0]))\n",
    "    width, height =  np.sqrt(s)\n",
    "\n",
    "    for nsig in range(2, 3):\n",
    "        ax.add_patch(Ellipse(pos, nsig * width, nsig * height,\n",
    "                                 angle, alpha = 0.15, color=color, label=label))\n",
    "colors = ['red', 'blue', 'green', 'orange']\n",
    "\n",
    "for j in range(K):\n",
    "    for i in [2,5,100]:\n",
    "        plot_ellipse(h[j][i], h_bis[j][i], colors[j], 'yes' )\n",
    "for i in range(K):\n",
    "    x,y = zip(*h[i][:50])\n",
    "    plt.scatter(x,y, color=colors[i],  s=10, alpha=0.9)\n",
    "plt.scatter(X[:, 0], X[:, 1], c='black', s=5, alpha=0.3)\n",
    "plt.xlim(-1.5,1.5)\n",
    "plt.ylim(-1.5,1.5)\n",
    "plt.title('Barycenter trajectory')"
   ]
  }
 ],
 "metadata": {
  "kernelspec": {
   "display_name": "Python 3",
   "language": "python",
   "name": "python3"
  },
  "language_info": {
   "codemirror_mode": {
    "name": "ipython",
    "version": 3
   },
   "file_extension": ".py",
   "mimetype": "text/x-python",
   "name": "python",
   "nbconvert_exporter": "python",
   "pygments_lexer": "ipython3",
   "version": "3.7.3"
  }
 },
 "nbformat": 4,
 "nbformat_minor": 2
}
